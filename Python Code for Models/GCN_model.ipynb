{
 "cells": [
  {
   "cell_type": "code",
   "execution_count": 1,
   "id": "EYomBtSYxLN-",
   "metadata": {
    "colab": {
     "base_uri": "https://localhost:8080/",
     "height": 1000
    },
    "id": "EYomBtSYxLN-",
    "outputId": "7b8b57c9-1d97-4077-d1ce-73cba0995de8"
   },
   "outputs": [],
   "source": [
    "# !pip install pyg-lib torch-scatter torch-sparse torch-cluster torch-spline-conv torch-geometric -f https://data.pyg.org/whl/torch-1.13.0+cpu.html"
   ]
  },
  {
   "cell_type": "code",
   "execution_count": 2,
   "id": "dff9be56",
   "metadata": {
    "id": "dff9be56"
   },
   "outputs": [],
   "source": [
    "import numpy as np\n",
    "import pandas as pd\n",
    "import matplotlib\n",
    "import matplotlib.pyplot as plt\n",
    "import torch\n",
    "from torch import nn\n",
    "import torch.optim as optim\n",
    "from torch.utils.data import Dataset, DataLoader\n",
    "import torch.nn.functional as F\n",
    "from torch_geometric.nn import GCNConv\n",
    "from torch_geometric.data import Data\n",
    "from torch_geometric.transforms import RandomNodeSplit as masking\n",
    "from torch_geometric.utils.convert import to_networkx"
   ]
  },
  {
   "cell_type": "code",
   "execution_count": 12,
   "id": "4f824a54",
   "metadata": {},
   "outputs": [
    {
     "name": "stdout",
     "output_type": "stream",
     "text": [
      "292\n"
     ]
    }
   ],
   "source": [
    "print(sum(targets))"
   ]
  },
  {
   "cell_type": "code",
   "execution_count": 3,
   "id": "31c22ed4",
   "metadata": {
    "colab": {
     "base_uri": "https://localhost:8080/"
    },
    "id": "31c22ed4",
    "outputId": "7688f8ab-56f1-4a87-e764-a164d0495cde"
   },
   "outputs": [
    {
     "name": "stdout",
     "output_type": "stream",
     "text": [
      "tensor([[1.2747e-01, 1.0000e+00, 0.0000e+00,  ..., 3.8311e-04, 4.5719e-03,\n",
      "         1.2792e-04],\n",
      "        [4.7800e-01, 1.0000e+00, 0.0000e+00,  ..., 1.9423e-03, 2.6903e-03,\n",
      "         0.0000e+00],\n",
      "        [1.0409e-01, 1.0000e+00, 0.0000e+00,  ..., 1.1048e-04, 9.7399e-05,\n",
      "         0.0000e+00],\n",
      "        ...,\n",
      "        [4.6519e-01, 0.0000e+00, 1.0000e+00,  ..., 5.0962e-04, 7.1426e-04,\n",
      "         3.5224e-05],\n",
      "        [3.9834e-01, 0.0000e+00, 0.0000e+00,  ..., 2.0848e-04, 0.0000e+00,\n",
      "         0.0000e+00],\n",
      "        [5.9318e-01, 1.0000e+00, 0.0000e+00,  ..., 3.1005e-04, 4.9438e-04,\n",
      "         0.0000e+00]])\n",
      "tensor([0, 0, 0,  ..., 1, 0, 0])\n",
      "tensor([[ 788,  403, 1849,  ..., 1387, 1086,  606],\n",
      "        [ 401,  160,  724,  ..., 1486,  427,   88]])\n",
      "training samples 1600\n",
      "validation samples 200\n",
      "test samples 200\n"
     ]
    },
    {
     "name": "stderr",
     "output_type": "stream",
     "text": [
      "/var/folders/cn/7517r4y97_v4x19x2n2wx9jh0000gn/T/ipykernel_41740/2548915183.py:23: UserWarning: Creating a tensor from a list of numpy.ndarrays is extremely slow. Please consider converting the list to a single numpy.ndarray with numpy.array() before converting to a tensor. (Triggered internally at /Users/runner/work/pytorch/pytorch/pytorch/torch/csrc/utils/tensor_new.cpp:233.)\n",
      "  edge_index = torch.tensor([source_nodes, target_nodes], dtype=torch.long)\n"
     ]
    }
   ],
   "source": [
    "# Load your node dataset CSV data into a Pandas DataFrame\n",
    "node_df = pd.read_csv(\"/Users/manan/Desktop/Research/Learning/normalized_user_data.csv\")\n",
    "\n",
    "# Extract the node IDs, features, and target values from the DataFrame\n",
    "node_ids = node_df['id'].values\n",
    "features = node_df.iloc[:, 1:11].values  # assuming the features start at column 1 and end at column 10\n",
    "targets = node_df['label'].values\n",
    "\n",
    "# Create the node feature matrix as a PyTorch tensor\n",
    "x = torch.tensor(features, dtype=torch.float)\n",
    "\n",
    "# Create the target vector as a PyTorch tensor\n",
    "y = torch.tensor(targets, dtype=torch.long)\n",
    "\n",
    "# Load your edge index CSV data into a Pandas DataFrame\n",
    "edge_df = pd.read_csv(\"/Users/manan/Desktop/Research/Learning/converted_edge.csv\")\n",
    "\n",
    "# Extract the source and target node IDs from the DataFrame\n",
    "source_nodes = edge_df['source_id'].values\n",
    "target_nodes = edge_df['target_id'].values\n",
    "\n",
    "# Create the edge index as a PyTorch tensor\n",
    "edge_index = torch.tensor([source_nodes, target_nodes], dtype=torch.long)\n",
    "\n",
    "# Create the PyTorch data object\n",
    "data = Data(x=x, y=y, edge_index=edge_index)\n",
    "\n",
    "msk = masking(split=\"train_rest\", num_splits = 1, num_val = 0.1, num_test= 0.1)\n",
    "\n",
    "data = msk(data)\n",
    "\n",
    "# You can access the data object's properties like this:\n",
    "print(data.x) # print the node feature matrix\n",
    "print(data.y) # print the target vector\n",
    "print(data.edge_index) # print the edge index\n",
    "print(\"training samples\",torch.sum(data.train_mask).item())\n",
    "print(\"validation samples\",torch.sum(data.val_mask ).item())\n",
    "print(\"test samples\",torch.sum(data.test_mask ).item())"
   ]
  },
  {
   "cell_type": "code",
   "execution_count": 4,
   "id": "21d080d2",
   "metadata": {},
   "outputs": [],
   "source": [
    "node_df = pd.read_csv(\"/Users/manan/Desktop/Research/Learning/small_user.csv\")\n",
    "sample_data = node_df.head()\n",
    "sample_data.to_csv(\"sample_data.csv\", index=False)"
   ]
  },
  {
   "cell_type": "code",
   "execution_count": 5,
   "id": "yLNlNBlHjDXT",
   "metadata": {
    "colab": {
     "base_uri": "https://localhost:8080/",
     "height": 318
    },
    "id": "yLNlNBlHjDXT",
    "outputId": "3d1d2ea4-7d4e-464e-d3cd-d0fa187cec3d"
   },
   "outputs": [
    {
     "data": {
      "text/plain": [
       "numpy.ndarray"
      ]
     },
     "execution_count": 5,
     "metadata": {},
     "output_type": "execute_result"
    }
   ],
   "source": [
    "type(source_nodes)"
   ]
  },
  {
   "cell_type": "code",
   "execution_count": 6,
   "id": "a5932cb4",
   "metadata": {
    "id": "a5932cb4"
   },
   "outputs": [],
   "source": [
    "class GCN(torch.nn.Module):\n",
    "    def __init__(self):\n",
    "        super(GCN, self).__init__()\n",
    "        self.conv1 = GCNConv(data.num_node_features, 16)\n",
    "        self.conv2 = GCNConv(16, 16)\n",
    "        self.conv3 = GCNConv(16, 2)\n",
    "\n",
    "    def forward(self, data):\n",
    "        x, edge_index = data.x, data.edge_index\n",
    "\n",
    "        x = self.conv1(x, edge_index)\n",
    "        x = F.relu(x)\n",
    "        # x = F.dropout(x, p= .25, training=self.training)\n",
    "        \n",
    "        x = self.conv2(x, edge_index)\n",
    "        x = F.relu(x)\n",
    "        # x = F.dropout(x, p= .25, training=self.training)\n",
    "        \n",
    "        x = self.conv3(x, edge_index)\n",
    "        x = F.relu(x)\n",
    "        # x = F.dropout(x, p= .25, training=self.training)\n",
    "\n",
    "        return x"
   ]
  },
  {
   "cell_type": "code",
   "execution_count": 7,
   "id": "5307e271",
   "metadata": {
    "id": "5307e271"
   },
   "outputs": [],
   "source": [
    "def masked_loss(predictions,labels,mask):\n",
    "    mask=mask.float()\n",
    "    mask=mask/torch.mean(mask)\n",
    "    loss=criterion(predictions,labels)\n",
    "    loss=loss*mask\n",
    "    loss=torch.mean(loss)\n",
    "    return (loss)    \n",
    "\n",
    "def masked_accuracy(predictions,labels,mask):\n",
    "    mask=mask.float()\n",
    "    mask/=torch.mean(mask)\n",
    "    accuracy=(torch.argmax(predictions,axis=1)==labels).long()\n",
    "    accuracy=mask*accuracy\n",
    "    accuracy=torch.mean(accuracy)\n",
    "    return (accuracy)    \n"
   ]
  },
  {
   "cell_type": "code",
   "execution_count": 8,
   "id": "d68d8e5d",
   "metadata": {
    "id": "d68d8e5d"
   },
   "outputs": [],
   "source": [
    "def train(data, net, optimizer, epochs):\n",
    "\n",
    "    best_accuracy=0.0\n",
    "\n",
    "    train_losses=[]\n",
    "    train_accuracies=[]\n",
    "\n",
    "    val_losses=[]\n",
    "    val_accuracies=[]\n",
    "\n",
    "    test_losses=[]\n",
    "    test_accuracies=[]\n",
    "\n",
    "    for ep in range(epochs):\n",
    "        optimizer.zero_grad()\n",
    "        out=net(data)\n",
    "        loss=masked_loss(predictions=out,\n",
    "                         labels=data.y,\n",
    "                         mask=data.train_mask)\n",
    "        loss.backward()\n",
    "        optimizer.step()\n",
    "        train_losses+=[loss.item()]\n",
    "        train_accuracy=masked_accuracy(predictions=out,\n",
    "                                       labels=data.y, \n",
    "                                       mask=data.train_mask)\n",
    "        train_accuracies+=[train_accuracy.item()]\n",
    "\n",
    "        val_loss=masked_loss(predictions=out,\n",
    "                             labels=data.y, \n",
    "                             mask=data.val_mask)\n",
    "        val_losses+=[val_loss.item()]\n",
    "\n",
    "        val_accuracy=masked_accuracy(predictions=out,\n",
    "                                     labels=data.y, \n",
    "                                     mask=data.val_mask)\n",
    "        val_accuracies+=[val_accuracy.item()]\n",
    "\n",
    "        test_accuracy=masked_accuracy(predictions=out,\n",
    "                                      labels=data.y, \n",
    "                                      mask=data.test_mask)\n",
    "        test_accuracies+=[test_accuracy.item()]\n",
    "        if val_accuracy > best_accuracy:\n",
    "            print(\"Epoch {}/{}, Train_Loss: {:.4f}, Train_Accuracy: {:.4f}, Val_Accuracy: {:.4f}, Test_Accuracy: {:.4f}\"\n",
    "                      .format(ep+1,epochs, loss.item(), train_accuracy, val_accuracy,  test_accuracy))\n",
    "            best_accuracy=val_accuracy\n",
    "\n",
    "    confusion_matrix(y_true, y_pred)\n",
    "    plt.plot(train_losses, label=\"train loss\")  \n",
    "    plt.plot(val_losses, label=\"val loss\")\n",
    "    plt.plot(test_losses, label=\"test loss\")  \n",
    "    plt.legend(loc=\"upper left\")\n",
    "    plt.show()\n",
    "\n",
    "    plt.plot(train_accuracies, label=\"train accuracy\") \n",
    "    plt.plot(val_accuracies, label=\"val accuracy \")\n",
    "    plt.plot(test_accuracies, label=\"test accuracy\") \n",
    "    plt.legend(loc=\"upper left\")\n",
    "    plt.show()"
   ]
  },
  {
   "cell_type": "code",
   "execution_count": 9,
   "id": "7de1e552",
   "metadata": {
    "id": "7de1e552"
   },
   "outputs": [],
   "source": [
    "def test(dataloader, model, loss_fn):\n",
    "    size = len(dataloader.dataset)\n",
    "    num_batches = len(dataloader)\n",
    "    model.eval()\n",
    "    test_loss, correct = 0, 0\n",
    "    with torch.no_grad():\n",
    "        for X, y in dataloader:\n",
    "            X, y = X.to(device), y.to(device)\n",
    "            pred = model(X)\n",
    "            test_loss += loss_fn(pred, y).item()\n",
    "            correct += (pred.argmax(1) == y).type(torch.float).sum().item()\n",
    "    test_loss /= num_batches\n",
    "    correct /= size\n",
    "    print(f\"Test Error: \\n Accuracy: {(100*correct):>0.1f}%, Avg loss: {test_loss:>8f} \\n\")"
   ]
  },
  {
   "cell_type": "code",
   "execution_count": 10,
   "id": "44775ce3",
   "metadata": {
    "colab": {
     "base_uri": "https://localhost:8080/",
     "height": 656
    },
    "id": "44775ce3",
    "outputId": "9324145a-8732-4367-d6f8-c843ebc8c027"
   },
   "outputs": [
    {
     "name": "stdout",
     "output_type": "stream",
     "text": [
      "Epoch 1/250, Train_Loss: 0.7561, Train_Accuracy: 0.1975, Val_Accuracy: 0.2600, Test_Accuracy: 0.1600\n",
      "Epoch 2/250, Train_Loss: 0.7485, Train_Accuracy: 0.2212, Val_Accuracy: 0.2850, Test_Accuracy: 0.2050\n",
      "Epoch 4/250, Train_Loss: 0.7334, Train_Accuracy: 0.2500, Val_Accuracy: 0.3000, Test_Accuracy: 0.2150\n",
      "Epoch 5/250, Train_Loss: 0.7259, Train_Accuracy: 0.2700, Val_Accuracy: 0.3150, Test_Accuracy: 0.2450\n",
      "Epoch 7/250, Train_Loss: 0.7112, Train_Accuracy: 0.3413, Val_Accuracy: 0.3800, Test_Accuracy: 0.3150\n",
      "Epoch 8/250, Train_Loss: 0.7039, Train_Accuracy: 0.3806, Val_Accuracy: 0.4150, Test_Accuracy: 0.4000\n",
      "Epoch 9/250, Train_Loss: 0.6969, Train_Accuracy: 0.4775, Val_Accuracy: 0.4900, Test_Accuracy: 0.4900\n",
      "Epoch 10/250, Train_Loss: 0.6899, Train_Accuracy: 0.5650, Val_Accuracy: 0.5850, Test_Accuracy: 0.5700\n",
      "Epoch 11/250, Train_Loss: 0.6830, Train_Accuracy: 0.6431, Val_Accuracy: 0.6100, Test_Accuracy: 0.6500\n",
      "Epoch 12/250, Train_Loss: 0.6761, Train_Accuracy: 0.6787, Val_Accuracy: 0.6300, Test_Accuracy: 0.7100\n",
      "Epoch 13/250, Train_Loss: 0.6694, Train_Accuracy: 0.7556, Val_Accuracy: 0.7000, Test_Accuracy: 0.7750\n",
      "Epoch 14/250, Train_Loss: 0.6628, Train_Accuracy: 0.8075, Val_Accuracy: 0.7250, Test_Accuracy: 0.8350\n",
      "Epoch 15/250, Train_Loss: 0.6562, Train_Accuracy: 0.8400, Val_Accuracy: 0.7450, Test_Accuracy: 0.8700\n",
      "Epoch 16/250, Train_Loss: 0.6499, Train_Accuracy: 0.8450, Val_Accuracy: 0.7550, Test_Accuracy: 0.8750\n",
      "Epoch 17/250, Train_Loss: 0.6436, Train_Accuracy: 0.8487, Val_Accuracy: 0.7600, Test_Accuracy: 0.8800\n",
      "Epoch 18/250, Train_Loss: 0.6375, Train_Accuracy: 0.8494, Val_Accuracy: 0.7650, Test_Accuracy: 0.8800\n",
      "Epoch 20/250, Train_Loss: 0.6257, Train_Accuracy: 0.8506, Val_Accuracy: 0.7700, Test_Accuracy: 0.8850\n",
      "Epoch 21/250, Train_Loss: 0.6202, Train_Accuracy: 0.8562, Val_Accuracy: 0.7800, Test_Accuracy: 0.8850\n",
      "Epoch 22/250, Train_Loss: 0.6150, Train_Accuracy: 0.8550, Val_Accuracy: 0.7850, Test_Accuracy: 0.8800\n"
     ]
    },
    {
     "data": {
      "image/png": "[encoded data removed]",
      "text/plain": [
       "<Figure size 640x480 with 1 Axes>"
      ]
     },
     "metadata": {},
     "output_type": "display_data"
    },
    {
     "data": {
      "image/png": "[encoded data removed]",
      "text/plain": [
       "<Figure size 640x480 with 1 Axes>"
      ]
     },
     "metadata": {},
     "output_type": "display_data"
    }
   ],
   "source": [
    "device=\"cpu\"\n",
    "model = GCN().to(device)\n",
    "optimizer = torch.optim.Adam(model.parameters(), lr=1e-3, weight_decay=5e-4)\n",
    "criterion=nn.CrossEntropyLoss()\n",
    "train(data, model, optimizer, 250)"
   ]
  }
 ],
 "metadata": {
  "colab": {
   "provenance": []
  },
  "kernelspec": {
   "display_name": "Python 3 (ipykernel)",
   "language": "python",
   "name": "python3"
  },
  "language_info": {
   "codemirror_mode": {
    "name": "ipython",
    "version": 3
   },
   "file_extension": ".py",
   "mimetype": "text/x-python",
   "name": "python",
   "nbconvert_exporter": "python",
   "pygments_lexer": "ipython3",
   "version": "3.9.16"
  }
 },
 "nbformat": 4,
 "nbformat_minor": 5
}
